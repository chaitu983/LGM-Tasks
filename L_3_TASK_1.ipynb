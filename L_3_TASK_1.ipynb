{
  "nbformat": 4,
  "nbformat_minor": 0,
  "metadata": {
    "colab": {
      "name": "L-3_TASK-1.ipynb",
      "provenance": []
    },
    "kernelspec": {
      "name": "python3",
      "display_name": "Python 3"
    },
    "language_info": {
      "name": "python"
    }
  },
  "cells": [
    {
      "cell_type": "markdown",
      "metadata": {
        "id": "MsBpHmSRR84C"
      },
      "source": [
        "**# LETS GROW MORE: LGM-VIP VIRTUAL INTERNSHIP #LGMVIPAUG2021**\n",
        "\n",
        "**Domain: Data Science**\n",
        "\n",
        "**Level: Advanced**\n",
        "\n",
        "**Task 1: Develop A Neural Network That Can Read Handwriting:**\n",
        "\n",
        "***By: CHAITANYA BARLA***"
      ]
    },
    {
      "cell_type": "markdown",
      "metadata": {
        "id": "tdW30jrFTBhV"
      },
      "source": [
        "**IMPORTING THE REQUIRED LIBRARIES**"
      ]
    },
    {
      "cell_type": "code",
      "metadata": {
        "id": "Kw3SbnW3TIg3"
      },
      "source": [
        "import tensorflow as tf\n",
        "from tensorflow import keras\n",
        "import matplotlib\n",
        "import matplotlib.pyplot as plt\n",
        "import numpy as np\n",
        "from tensorflow.keras.utils import plot_model"
      ],
      "execution_count": 22,
      "outputs": []
    },
    {
      "cell_type": "markdown",
      "metadata": {
        "id": "MAbiT3-TUl-k"
      },
      "source": [
        "**Loading MNIST Dataset from keras and train the data here**\n",
        "\n",
        "We have 60000 dataset for training and 10000 dataset for testing."
      ]
    },
    {
      "cell_type": "code",
      "metadata": {
        "id": "qLDfYKY5Tyfz"
      },
      "source": [
        "#data loading from keras dataset\n",
        "Mnist_Data=keras.datasets.mnist.load_data()\n",
        "#Data divided for training and testing of model\n",
        "(X_train, Y_train), (X_test, Y_test) =Mnist_Data"
      ],
      "execution_count": 23,
      "outputs": []
    },
    {
      "cell_type": "code",
      "metadata": {
        "colab": {
          "base_uri": "https://localhost:8080/"
        },
        "id": "Kdm11YNeT5CG",
        "outputId": "fb228f11-3310-4193-c463-cff7abfab1e8"
      },
      "source": [
        "print(\"X_train data is\", len(X_train), \"\\nX_test data is\", len(X_test) )\n"
      ],
      "execution_count": 24,
      "outputs": [
        {
          "output_type": "stream",
          "text": [
            "X_train data is 60000 \n",
            "X_test data is 10000\n"
          ],
          "name": "stdout"
        }
      ]
    },
    {
      "cell_type": "code",
      "metadata": {
        "colab": {
          "base_uri": "https://localhost:8080/"
        },
        "id": "H0lfMDDfUFA_",
        "outputId": "9353b903-08ac-4420-95e8-3cf72650e581"
      },
      "source": [
        "#Dataset elements are 2-Dimensional\n",
        "print(\"Data size at index 0 is\",X_train[0].shape, \"and  the type is\", type(X_train[0]))\n"
      ],
      "execution_count": 25,
      "outputs": [
        {
          "output_type": "stream",
          "text": [
            "Data size at index 0 is (28, 28) and  the type is <class 'numpy.ndarray'>\n"
          ],
          "name": "stdout"
        }
      ]
    },
    {
      "cell_type": "code",
      "metadata": {
        "colab": {
          "base_uri": "https://localhost:8080/"
        },
        "id": "8KGkojsxUS5M",
        "outputId": "c657effa-b9b1-4250-ef21-116aaf62a78d"
      },
      "source": [
        "#here you can see that train data's element has 2-D array\n",
        "X_train[4]"
      ],
      "execution_count": 26,
      "outputs": [
        {
          "output_type": "execute_result",
          "data": {
            "text/plain": [
              "array([[  0,   0,   0,   0,   0,   0,   0,   0,   0,   0,   0,   0,   0,\n",
              "          0,   0,   0,   0,   0,   0,   0,   0,   0,   0,   0,   0,   0,\n",
              "          0,   0],\n",
              "       [  0,   0,   0,   0,   0,   0,   0,   0,   0,   0,   0,   0,   0,\n",
              "          0,   0,   0,   0,   0,   0,   0,   0,   0,   0,   0,   0,   0,\n",
              "          0,   0],\n",
              "       [  0,   0,   0,   0,   0,   0,   0,   0,   0,   0,   0,   0,   0,\n",
              "          0,   0,   0,   0,   0,   0,   0,   0,   0,   0,   0,   0,   0,\n",
              "          0,   0],\n",
              "       [  0,   0,   0,   0,   0,   0,   0,   0,   0,   0,   0,   0,   0,\n",
              "          0,   0,   0,   0,   0,   0,   0,   0,   0,   0,   0,   0,   0,\n",
              "          0,   0],\n",
              "       [  0,   0,   0,   0,   0,   0,   0,   0,   0,   0,   0,   0,   0,\n",
              "          0,   0,   0,   0,   0,   0,   0,   0,   0,   0,   0,   0,   0,\n",
              "          0,   0],\n",
              "       [  0,   0,   0,   0,   0,   0,   0,   0,   0,   0,   0,   0,   0,\n",
              "          0,   0,   0,   0,   0,   0,   0,   0,   0,   0,   0,   0,   0,\n",
              "          0,   0],\n",
              "       [  0,   0,   0,   0,   0,   0,   0,   0,   0,   0,   0,   0,   0,\n",
              "          0,   0,   0,   0,   0,   0,   0,   0,   0,   0,   0,   0,   0,\n",
              "          0,   0],\n",
              "       [  0,   0,   0,   0,   0,   0,   0,   0,   0,   0,   0,   0,  55,\n",
              "        148, 210, 253, 253, 113,  87, 148,  55,   0,   0,   0,   0,   0,\n",
              "          0,   0],\n",
              "       [  0,   0,   0,   0,   0,   0,   0,   0,   0,   0,   0,  87, 232,\n",
              "        252, 253, 189, 210, 252, 252, 253, 168,   0,   0,   0,   0,   0,\n",
              "          0,   0],\n",
              "       [  0,   0,   0,   0,   0,   0,   0,   0,   0,   4,  57, 242, 252,\n",
              "        190,  65,   5,  12, 182, 252, 253, 116,   0,   0,   0,   0,   0,\n",
              "          0,   0],\n",
              "       [  0,   0,   0,   0,   0,   0,   0,   0,   0,  96, 252, 252, 183,\n",
              "         14,   0,   0,  92, 252, 252, 225,  21,   0,   0,   0,   0,   0,\n",
              "          0,   0],\n",
              "       [  0,   0,   0,   0,   0,   0,   0,   0, 132, 253, 252, 146,  14,\n",
              "          0,   0,   0, 215, 252, 252,  79,   0,   0,   0,   0,   0,   0,\n",
              "          0,   0],\n",
              "       [  0,   0,   0,   0,   0,   0,   0, 126, 253, 247, 176,   9,   0,\n",
              "          0,   8,  78, 245, 253, 129,   0,   0,   0,   0,   0,   0,   0,\n",
              "          0,   0],\n",
              "       [  0,   0,   0,   0,   0,   0,  16, 232, 252, 176,   0,   0,   0,\n",
              "         36, 201, 252, 252, 169,  11,   0,   0,   0,   0,   0,   0,   0,\n",
              "          0,   0],\n",
              "       [  0,   0,   0,   0,   0,   0,  22, 252, 252,  30,  22, 119, 197,\n",
              "        241, 253, 252, 251,  77,   0,   0,   0,   0,   0,   0,   0,   0,\n",
              "          0,   0],\n",
              "       [  0,   0,   0,   0,   0,   0,  16, 231, 252, 253, 252, 252, 252,\n",
              "        226, 227, 252, 231,   0,   0,   0,   0,   0,   0,   0,   0,   0,\n",
              "          0,   0],\n",
              "       [  0,   0,   0,   0,   0,   0,   0,  55, 235, 253, 217, 138,  42,\n",
              "         24, 192, 252, 143,   0,   0,   0,   0,   0,   0,   0,   0,   0,\n",
              "          0,   0],\n",
              "       [  0,   0,   0,   0,   0,   0,   0,   0,   0,   0,   0,   0,   0,\n",
              "         62, 255, 253, 109,   0,   0,   0,   0,   0,   0,   0,   0,   0,\n",
              "          0,   0],\n",
              "       [  0,   0,   0,   0,   0,   0,   0,   0,   0,   0,   0,   0,   0,\n",
              "         71, 253, 252,  21,   0,   0,   0,   0,   0,   0,   0,   0,   0,\n",
              "          0,   0],\n",
              "       [  0,   0,   0,   0,   0,   0,   0,   0,   0,   0,   0,   0,   0,\n",
              "          0, 253, 252,  21,   0,   0,   0,   0,   0,   0,   0,   0,   0,\n",
              "          0,   0],\n",
              "       [  0,   0,   0,   0,   0,   0,   0,   0,   0,   0,   0,   0,   0,\n",
              "         71, 253, 252,  21,   0,   0,   0,   0,   0,   0,   0,   0,   0,\n",
              "          0,   0],\n",
              "       [  0,   0,   0,   0,   0,   0,   0,   0,   0,   0,   0,   0,   0,\n",
              "        106, 253, 252,  21,   0,   0,   0,   0,   0,   0,   0,   0,   0,\n",
              "          0,   0],\n",
              "       [  0,   0,   0,   0,   0,   0,   0,   0,   0,   0,   0,   0,   0,\n",
              "         45, 255, 253,  21,   0,   0,   0,   0,   0,   0,   0,   0,   0,\n",
              "          0,   0],\n",
              "       [  0,   0,   0,   0,   0,   0,   0,   0,   0,   0,   0,   0,   0,\n",
              "          0, 218, 252,  56,   0,   0,   0,   0,   0,   0,   0,   0,   0,\n",
              "          0,   0],\n",
              "       [  0,   0,   0,   0,   0,   0,   0,   0,   0,   0,   0,   0,   0,\n",
              "          0,  96, 252, 189,  42,   0,   0,   0,   0,   0,   0,   0,   0,\n",
              "          0,   0],\n",
              "       [  0,   0,   0,   0,   0,   0,   0,   0,   0,   0,   0,   0,   0,\n",
              "          0,  14, 184, 252, 170,  11,   0,   0,   0,   0,   0,   0,   0,\n",
              "          0,   0],\n",
              "       [  0,   0,   0,   0,   0,   0,   0,   0,   0,   0,   0,   0,   0,\n",
              "          0,   0,  14, 147, 252,  42,   0,   0,   0,   0,   0,   0,   0,\n",
              "          0,   0],\n",
              "       [  0,   0,   0,   0,   0,   0,   0,   0,   0,   0,   0,   0,   0,\n",
              "          0,   0,   0,   0,   0,   0,   0,   0,   0,   0,   0,   0,   0,\n",
              "          0,   0]], dtype=uint8)"
            ]
          },
          "metadata": {},
          "execution_count": 26
        }
      ]
    },
    {
      "cell_type": "markdown",
      "metadata": {
        "id": "F3TSpXPBVf2t"
      },
      "source": [
        "**Lets,Draw the 2-D array and see what handwritten figures**"
      ]
    },
    {
      "cell_type": "code",
      "metadata": {
        "colab": {
          "base_uri": "https://localhost:8080/",
          "height": 541
        },
        "id": "9hhltaz_Vq-W",
        "outputId": "c733851d-e3f6-4006-e42b-30b62d87973e"
      },
      "source": [
        "plt.matshow(X_train[4])\n",
        "plt.show() \n",
        "#Binary plot,In which we have only two colour black and white. Black=255 and White =0\n",
        "plt.imshow(X_train[4], cmap=matplotlib.cm.binary)"
      ],
      "execution_count": 27,
      "outputs": [
        {
          "output_type": "display_data",
          "data": {
            "image/png": "[encoded data removed]",
            "text/plain": [
              "<Figure size 288x288 with 1 Axes>"
            ]
          },
          "metadata": {
            "needs_background": "light"
          }
        },
        {
          "output_type": "execute_result",
          "data": {
            "text/plain": [
              "<matplotlib.image.AxesImage at 0x7fa877175090>"
            ]
          },
          "metadata": {},
          "execution_count": 27
        },
        {
          "output_type": "display_data",
          "data": {
            "image/png": "[encoded data removed]",
            "text/plain": [
              "<Figure size 432x288 with 1 Axes>"
            ]
          },
          "metadata": {
            "needs_background": "light"
          }
        }
      ]
    },
    {
      "cell_type": "code",
      "metadata": {
        "colab": {
          "base_uri": "https://localhost:8080/",
          "height": 187
        },
        "id": "-YdVcVldWWwQ",
        "outputId": "984a3897-2de5-4f76-e085-957f4f99495f"
      },
      "source": [
        "#Handwitten data strored in MNIST dataset. Here, I plot elements value stored from index 0 to 19\n",
        "fig=plt.figure(figsize=(10, 3))\n",
        "for i in range(20) :\n",
        "  Im=fig.add_subplot(2,10, i+1,xticks=[],yticks=[])#add all subplots\n",
        "  Im.imshow(np.squeeze(X_train[i]), cmap='gray')#\n",
        "  Im.set_title(Y_train[i])"
      ],
      "execution_count": 28,
      "outputs": [
        {
          "output_type": "display_data",
          "data": {
            "image/png": "[encoded data removed]",
            "text/plain": [
              "<Figure size 720x216 with 20 Axes>"
            ]
          },
          "metadata": {}
        }
      ]
    },
    {
      "cell_type": "markdown",
      "metadata": {
        "id": "qva8ZXiRXzbG"
      },
      "source": [
        "**Normalization of Dataset (Values in array will lie between 0 to 1)**"
      ]
    },
    {
      "cell_type": "code",
      "metadata": {
        "colab": {
          "base_uri": "https://localhost:8080/",
          "height": 283
        },
        "id": "Mc6RJgpdX8_A",
        "outputId": "99415956-d18a-4072-dc00-0fc2615a56ab"
      },
      "source": [
        "X_train=tf.keras.utils.normalize(X_train, axis=1)#normalization or divide the array index value by 255 in X_train dataset \n",
        "X_test=tf.keras.utils.normalize(X_test, axis=1)#normalization of X_test dataset\n",
        "plt.imshow(X_train[150],cmap=matplotlib.cm.binary)"
      ],
      "execution_count": 29,
      "outputs": [
        {
          "output_type": "execute_result",
          "data": {
            "text/plain": [
              "<matplotlib.image.AxesImage at 0x7fa876c45510>"
            ]
          },
          "metadata": {},
          "execution_count": 29
        },
        {
          "output_type": "display_data",
          "data": {
            "image/png": "[encoded data removed]",
            "text/plain": [
              "<Figure size 432x288 with 1 Axes>"
            ]
          },
          "metadata": {
            "needs_background": "light"
          }
        }
      ]
    },
    {
      "cell_type": "code",
      "metadata": {
        "colab": {
          "base_uri": "https://localhost:8080/"
        },
        "id": "fjPKl8aDYFk7",
        "outputId": "5db7ae58-2172-43ce-ed3b-04798e330811"
      },
      "source": [
        "print(\"Size of the X_train data\",X_train.shape,\"is 2-D.\")"
      ],
      "execution_count": 30,
      "outputs": [
        {
          "output_type": "stream",
          "text": [
            "Size of the X_train data (60000, 28, 28) is 2-D.\n"
          ],
          "name": "stdout"
        }
      ]
    },
    {
      "cell_type": "markdown",
      "metadata": {
        "id": "MjJEj83rYLM9"
      },
      "source": [
        "\n",
        "\n",
        "*   **Conversion of 2-Dimension array dataset into 1-Dimension for the formation of input neural network nodes**\n",
        "\n"
      ]
    },
    {
      "cell_type": "code",
      "metadata": {
        "colab": {
          "base_uri": "https://localhost:8080/"
        },
        "id": "RK419purYXUE",
        "outputId": "46d9d9c0-a4b3-43e6-bdae-300f9aa2e2ab"
      },
      "source": [
        "#Reshape function in numpy library will helps to convert 2-D to 1-D\n",
        "X_train_reshape=X_train.reshape(len(X_train), 28*28)\n",
        "print(\"Now,size of X_train data is\",X_train_reshape.shape) \n",
        "X_test_reshape=X_test.reshape(len(X_test), 28*28)\n",
        "print(\"Now,Size of X_test data is\",X_test_reshape.shape)"
      ],
      "execution_count": 31,
      "outputs": [
        {
          "output_type": "stream",
          "text": [
            "Now,size of X_train data is (60000, 784)\n",
            "Now,Size of X_test data is (10000, 784)\n"
          ],
          "name": "stdout"
        }
      ]
    },
    {
      "cell_type": "markdown",
      "metadata": {
        "id": "c74kRocyYcaw"
      },
      "source": [
        "**Neural Network Formation**\n",
        "\n",
        "Here, we form 3 layers. They are :- \n",
        "\n",
        "\n",
        "1.   Input Layer\n",
        "1.   Hidden Layer\n",
        "2.   Output Layer\n",
        "\n",
        "\n",
        "\n",
        "\n"
      ]
    },
    {
      "cell_type": "code",
      "metadata": {
        "colab": {
          "base_uri": "https://localhost:8080/"
        },
        "id": "HlJCQ2ouY8ek",
        "outputId": "3eb96525-8b44-4967-c7be-77d95970258a"
      },
      "source": [
        "#Formed 788 input layers, Hidden layers and 10 output layers with activation functions relu and sigmoid\n",
        "model=keras.Sequential([keras.layers.Dense(60,input_shape=(784,),activation='relu'), \n",
        "keras.layers.Dense(100,activation='relu'), \n",
        "keras.layers.Dropout(0.2), \n",
        "keras.layers.Dense(10,activation='sigmoid')])\n",
        "#model compiling\n",
        "model.compile(optimizer='adam', loss='sparse_categorical_crossentropy', metrics=['accuracy'])\n",
        "#Fitting the data train value in model for predicting the handwritten value in dataset\n",
        "model.fit(X_train_reshape, Y_train, epochs=6, validation_split=0.3)"
      ],
      "execution_count": 32,
      "outputs": [
        {
          "output_type": "stream",
          "text": [
            "Epoch 1/6\n",
            "1313/1313 [==============================] - 3s 2ms/step - loss: 0.4044 - accuracy: 0.8816 - val_loss: 0.1985 - val_accuracy: 0.9423\n",
            "Epoch 2/6\n",
            "1313/1313 [==============================] - 3s 2ms/step - loss: 0.1764 - accuracy: 0.9482 - val_loss: 0.1519 - val_accuracy: 0.9549\n",
            "Epoch 3/6\n",
            "1313/1313 [==============================] - 3s 2ms/step - loss: 0.1264 - accuracy: 0.9626 - val_loss: 0.1365 - val_accuracy: 0.9593\n",
            "Epoch 4/6\n",
            "1313/1313 [==============================] - 3s 2ms/step - loss: 0.1005 - accuracy: 0.9693 - val_loss: 0.1243 - val_accuracy: 0.9625\n",
            "Epoch 5/6\n",
            "1313/1313 [==============================] - 3s 2ms/step - loss: 0.0820 - accuracy: 0.9755 - val_loss: 0.1169 - val_accuracy: 0.9653\n",
            "Epoch 6/6\n",
            "1313/1313 [==============================] - 2s 2ms/step - loss: 0.0703 - accuracy: 0.9779 - val_loss: 0.1256 - val_accuracy: 0.9624\n"
          ],
          "name": "stdout"
        },
        {
          "output_type": "execute_result",
          "data": {
            "text/plain": [
              "<keras.callbacks.History at 0x7fa8770d7a90>"
            ]
          },
          "metadata": {},
          "execution_count": 32
        }
      ]
    },
    {
      "cell_type": "code",
      "metadata": {
        "colab": {
          "base_uri": "https://localhost:8080/"
        },
        "id": "WuCSL-etZHOl",
        "outputId": "a08228b6-30dd-4128-a653-6e18af65fff4"
      },
      "source": [
        "model.summary ()#It shows the summary of the model"
      ],
      "execution_count": 33,
      "outputs": [
        {
          "output_type": "stream",
          "text": [
            "Model: \"sequential\"\n",
            "_________________________________________________________________\n",
            "Layer (type)                 Output Shape              Param #   \n",
            "=================================================================\n",
            "dense (Dense)                (None, 60)                47100     \n",
            "_________________________________________________________________\n",
            "dense_1 (Dense)              (None, 100)               6100      \n",
            "_________________________________________________________________\n",
            "dropout (Dropout)            (None, 100)               0         \n",
            "_________________________________________________________________\n",
            "dense_2 (Dense)              (None, 10)                1010      \n",
            "=================================================================\n",
            "Total params: 54,210\n",
            "Trainable params: 54,210\n",
            "Non-trainable params: 0\n",
            "_________________________________________________________________\n"
          ],
          "name": "stdout"
        }
      ]
    },
    {
      "cell_type": "code",
      "metadata": {
        "colab": {
          "base_uri": "https://localhost:8080/",
          "height": 533
        },
        "id": "945ISBhYZLSw",
        "outputId": "3f0d991f-a47e-4c91-ff9f-40bd81293a63"
      },
      "source": [
        "#Here, we plot the flow of the model\n",
        "plot_model(model,'model.jpg',show_shapes=True)"
      ],
      "execution_count": 34,
      "outputs": [
        {
          "output_type": "execute_result",
          "data": {
            "image/jpeg": "[encoded data removed]",
            "text/plain": [
              "<IPython.core.display.Image object>"
            ]
          },
          "metadata": {},
          "execution_count": 34
        }
      ]
    },
    {
      "cell_type": "markdown",
      "metadata": {
        "id": "g0P9pUv3ZP4g"
      },
      "source": [
        "**Model Evaluation**"
      ]
    },
    {
      "cell_type": "code",
      "metadata": {
        "colab": {
          "base_uri": "https://localhost:8080/"
        },
        "id": "pjdJ3hoFZSNJ",
        "outputId": "24aca485-d2d9-49e3-80de-e87e744d747c"
      },
      "source": [
        "Loss, Accuracy=model.evaluate(X_test_reshape, Y_test)#It will evaluate the loss and accuracy of the model\n",
        "print(\"By recognition the accuracy of the model is\", Accuracy*100,\"%\", \"and loss is\", Loss)"
      ],
      "execution_count": 35,
      "outputs": [
        {
          "output_type": "stream",
          "text": [
            "313/313 [==============================] - 0s 1ms/step - loss: 0.1068 - accuracy: 0.9673\n",
            "By recognition the accuracy of the model is 96.72999978065491 % and loss is 0.10677821189165115\n"
          ],
          "name": "stdout"
        }
      ]
    },
    {
      "cell_type": "markdown",
      "metadata": {
        "id": "-y6Qi7kZZZwd"
      },
      "source": [
        "**Checking Predicted value is same as data test value or not**"
      ]
    },
    {
      "cell_type": "code",
      "metadata": {
        "id": "gFWFlrU_Zg_B"
      },
      "source": [
        "Y_Predicted=model.predict(X_test_reshape)\n"
      ],
      "execution_count": 36,
      "outputs": []
    },
    {
      "cell_type": "code",
      "metadata": {
        "colab": {
          "base_uri": "https://localhost:8080/"
        },
        "id": "Xo9vK5bnZoFX",
        "outputId": "a587b247-7c81-41e9-a748-8a7cd763651e"
      },
      "source": [
        "#Here, It find out highest weighted predicted value by using argmax function\n",
        "Y_Predicted_Values=[np.argmax(i) for i in Y_Predicted]\n",
        "Y_Predicted_Values[:10]"
      ],
      "execution_count": 37,
      "outputs": [
        {
          "output_type": "execute_result",
          "data": {
            "text/plain": [
              "[7, 2, 1, 0, 4, 1, 4, 9, 5, 9]"
            ]
          },
          "metadata": {},
          "execution_count": 37
        }
      ]
    },
    {
      "cell_type": "code",
      "metadata": {
        "colab": {
          "base_uri": "https://localhost:8080/"
        },
        "id": "Omng0-YSZtKd",
        "outputId": "51a6b8ed-7281-43da-c583-dd92e78e7707"
      },
      "source": [
        "Y_test[:10]"
      ],
      "execution_count": 38,
      "outputs": [
        {
          "output_type": "execute_result",
          "data": {
            "text/plain": [
              "array([7, 2, 1, 0, 4, 1, 4, 9, 5, 9], dtype=uint8)"
            ]
          },
          "metadata": {},
          "execution_count": 38
        }
      ]
    },
    {
      "cell_type": "code",
      "metadata": {
        "colab": {
          "base_uri": "https://localhost:8080/",
          "height": 293
        },
        "id": "BqKbNuT3ZxsG",
        "outputId": "eb71647b-d562-4a99-80e5-d8fce94712ab"
      },
      "source": [
        "plt.matshow(X_test[1000])\n"
      ],
      "execution_count": 39,
      "outputs": [
        {
          "output_type": "execute_result",
          "data": {
            "text/plain": [
              "<matplotlib.image.AxesImage at 0x7fa873377d10>"
            ]
          },
          "metadata": {},
          "execution_count": 39
        },
        {
          "output_type": "display_data",
          "data": {
            "image/png": "[encoded data removed]",
            "text/plain": [
              "<Figure size 288x288 with 1 Axes>"
            ]
          },
          "metadata": {
            "needs_background": "light"
          }
        }
      ]
    },
    {
      "cell_type": "code",
      "metadata": {
        "colab": {
          "base_uri": "https://localhost:8080/"
        },
        "id": "8xHSgGFOZ23A",
        "outputId": "c35c7de6-92d0-43ee-b349-239c84678564"
      },
      "source": [
        "Y_Predicted [1000]\n"
      ],
      "execution_count": 40,
      "outputs": [
        {
          "output_type": "execute_result",
          "data": {
            "text/plain": [
              "array([3.0252337e-04, 2.0044297e-02, 1.7917797e-05, 8.6372638e-01,\n",
              "       2.1718249e-01, 3.8179457e-03, 2.2027802e-08, 8.5437685e-01,\n",
              "       1.2518644e-02, 9.9983495e-01], dtype=float32)"
            ]
          },
          "metadata": {},
          "execution_count": 40
        }
      ]
    },
    {
      "cell_type": "markdown",
      "metadata": {
        "id": "gVmJ0bhfZ9wT"
      },
      "source": [
        "\n",
        "\n",
        "*   As here we can see that Y_predicted value is same as Y_test value\n",
        "\n",
        "\n",
        "\n"
      ]
    },
    {
      "cell_type": "code",
      "metadata": {
        "colab": {
          "base_uri": "https://localhost:8080/"
        },
        "id": "7T-SBkSraD3g",
        "outputId": "ba101a20-a9fd-41e4-8963-f2013bc3b8ba"
      },
      "source": [
        "np.argmax(Y_Predicted [1000])\n"
      ],
      "execution_count": 41,
      "outputs": [
        {
          "output_type": "execute_result",
          "data": {
            "text/plain": [
              "9"
            ]
          },
          "metadata": {},
          "execution_count": 41
        }
      ]
    },
    {
      "cell_type": "code",
      "metadata": {
        "colab": {
          "base_uri": "https://localhost:8080/"
        },
        "id": "KIq6ZdwXaNuc",
        "outputId": "39d96569-06bc-4da6-f443-8f80c1379205"
      },
      "source": [
        "Y_test [1000]\n"
      ],
      "execution_count": 42,
      "outputs": [
        {
          "output_type": "execute_result",
          "data": {
            "text/plain": [
              "9"
            ]
          },
          "metadata": {},
          "execution_count": 42
        }
      ]
    },
    {
      "cell_type": "code",
      "metadata": {
        "colab": {
          "base_uri": "https://localhost:8080/",
          "height": 293
        },
        "id": "zUfKWxdyaTBD",
        "outputId": "2ff85ff4-500a-4b13-d00b-c658f5654e1c"
      },
      "source": [
        "plt.matshow(X_test[5886],cmap=matplotlib.cm.binary)\n"
      ],
      "execution_count": 43,
      "outputs": [
        {
          "output_type": "execute_result",
          "data": {
            "text/plain": [
              "<matplotlib.image.AxesImage at 0x7fa873378b50>"
            ]
          },
          "metadata": {},
          "execution_count": 43
        },
        {
          "output_type": "display_data",
          "data": {
            "image/png": "[encoded data removed]",
            "text/plain": [
              "<Figure size 288x288 with 1 Axes>"
            ]
          },
          "metadata": {
            "needs_background": "light"
          }
        }
      ]
    },
    {
      "cell_type": "code",
      "metadata": {
        "colab": {
          "base_uri": "https://localhost:8080/"
        },
        "id": "85fo5K0vaYNX",
        "outputId": "72e13702-dce3-4d7f-a299-8e4de7963cf1"
      },
      "source": [
        "Y_Predicted=model.predict(X_test_reshape)\n",
        "Y_Predicted [5886]#Here we get 10 probability values of 10 ouput layer nodes"
      ],
      "execution_count": 44,
      "outputs": [
        {
          "output_type": "execute_result",
          "data": {
            "text/plain": [
              "array([1.4385372e-02, 4.5409712e-01, 4.6783632e-01, 9.6776187e-03,\n",
              "       2.0697474e-02, 2.3415774e-01, 9.9994797e-01, 1.3229251e-04,\n",
              "       1.7330760e-01, 5.0004664e-06], dtype=float32)"
            ]
          },
          "metadata": {},
          "execution_count": 44
        }
      ]
    },
    {
      "cell_type": "markdown",
      "metadata": {
        "id": "xTBs-fw4agJu"
      },
      "source": [
        "\n",
        "\n",
        "*   Again same result, Predicted value is same as test value.\n",
        "\n",
        "\n",
        "\n"
      ]
    },
    {
      "cell_type": "code",
      "metadata": {
        "colab": {
          "base_uri": "https://localhost:8080/"
        },
        "id": "A52okhJuakIM",
        "outputId": "7e41782b-16d0-402f-a3e8-eb94c8825497"
      },
      "source": [
        "np.argmax(Y_Predicted [5886])\n",
        "#It give highest probability value\n"
      ],
      "execution_count": 45,
      "outputs": [
        {
          "output_type": "execute_result",
          "data": {
            "text/plain": [
              "6"
            ]
          },
          "metadata": {},
          "execution_count": 45
        }
      ]
    },
    {
      "cell_type": "code",
      "metadata": {
        "colab": {
          "base_uri": "https://localhost:8080/"
        },
        "id": "7WiFf7CeaspK",
        "outputId": "3d09da73-3591-468c-e027-67ffb05f26cd"
      },
      "source": [
        "Y_test[5886]\n"
      ],
      "execution_count": 46,
      "outputs": [
        {
          "output_type": "execute_result",
          "data": {
            "text/plain": [
              "6"
            ]
          },
          "metadata": {},
          "execution_count": 46
        }
      ]
    },
    {
      "cell_type": "code",
      "metadata": {
        "colab": {
          "base_uri": "https://localhost:8080/"
        },
        "id": "n-DH8S4qaxIM",
        "outputId": "6666b5d5-f5ff-437f-d071-3ce451559d84"
      },
      "source": [
        "Y=tf.math.confusion_matrix(labels=Y_test, predictions=Y_Predicted_Values)\n",
        "Y"
      ],
      "execution_count": 47,
      "outputs": [
        {
          "output_type": "execute_result",
          "data": {
            "text/plain": [
              "<tf.Tensor: shape=(10, 10), dtype=int32, numpy=\n",
              "array([[ 967,    0,    1,    1,    0,    0,    3,    2,    2,    4],\n",
              "       [   0, 1118,    3,    0,    0,    0,    1,    2,   11,    0],\n",
              "       [   3,    1, 1011,    1,    0,    0,    3,   10,    3,    0],\n",
              "       [   0,    1,   13,  961,    0,   21,    0,    4,    6,    4],\n",
              "       [   1,    0,    7,    0,  924,    1,    4,    4,    7,   34],\n",
              "       [   4,    0,    0,   10,    0,  860,    6,    2,    5,    5],\n",
              "       [  11,    3,    1,    1,    5,    3,  928,    0,    6,    0],\n",
              "       [   2,    3,   10,    2,    2,    0,    0, 1001,    0,    8],\n",
              "       [   5,    2,    8,    9,    3,    4,    2,    6,  927,    8],\n",
              "       [   4,    4,    0,    4,    7,    5,    0,    8,    1,  976]],\n",
              "      dtype=int32)>"
            ]
          },
          "metadata": {},
          "execution_count": 47
        }
      ]
    },
    {
      "cell_type": "code",
      "metadata": {
        "colab": {
          "base_uri": "https://localhost:8080/",
          "height": 283
        },
        "id": "RlKRc_23a1pv",
        "outputId": "b96cda43-89fc-479c-acc4-27b2b9e84a66"
      },
      "source": [
        "import seaborn as sns\n",
        "sns.heatmap(Y,annot=True,fmt='d',cmap='Reds',annot_kws={'fontsize':10,'fontweight':'bold'})"
      ],
      "execution_count": 48,
      "outputs": [
        {
          "output_type": "execute_result",
          "data": {
            "text/plain": [
              "<matplotlib.axes._subplots.AxesSubplot at 0x7fa86923c250>"
            ]
          },
          "metadata": {},
          "execution_count": 48
        },
        {
          "output_type": "display_data",
          "data": {
            "image/png": "[encoded data removed]",
            "text/plain": [
              "<Figure size 432x288 with 2 Axes>"
            ]
          },
          "metadata": {
            "needs_background": "light"
          }
        }
      ]
    },
    {
      "cell_type": "code",
      "metadata": {
        "id": "ZoHvQ12YbFnn"
      },
      "source": [
        "X_train_flattened = X_train.reshape(len(X_train), 28*28)\n",
        "X_test_flattened = X_test.reshape(len(X_test), 28*28)"
      ],
      "execution_count": 51,
      "outputs": []
    },
    {
      "cell_type": "code",
      "metadata": {
        "colab": {
          "base_uri": "https://localhost:8080/"
        },
        "id": "BV7gPooPcEi4",
        "outputId": "ad21ec56-d41c-4015-8455-12c2737534dc"
      },
      "source": [
        "model = keras.Sequential([\n",
        "    keras.layers.Dense(10, input_shape=(784,), activation='sigmoid')\n",
        "])\n",
        "\n",
        "model.compile(optimizer='adam',\n",
        "              loss='sparse_categorical_crossentropy',\n",
        "              metrics=['accuracy'])\n",
        "\n",
        "model.fit(X_train_flattened, y_train, epochs=5)"
      ],
      "execution_count": 52,
      "outputs": [
        {
          "output_type": "stream",
          "text": [
            "Epoch 1/5\n",
            "1875/1875 [==============================] - 2s 1ms/step - loss: 0.6015 - accuracy: 0.8593\n",
            "Epoch 2/5\n",
            "1875/1875 [==============================] - 2s 1ms/step - loss: 0.3427 - accuracy: 0.9047\n",
            "Epoch 3/5\n",
            "1875/1875 [==============================] - 2s 1ms/step - loss: 0.3086 - accuracy: 0.9128\n",
            "Epoch 4/5\n",
            "1875/1875 [==============================] - 2s 1ms/step - loss: 0.2924 - accuracy: 0.9170\n",
            "Epoch 5/5\n",
            "1875/1875 [==============================] - 2s 1ms/step - loss: 0.2825 - accuracy: 0.9200\n"
          ],
          "name": "stdout"
        },
        {
          "output_type": "execute_result",
          "data": {
            "text/plain": [
              "<keras.callbacks.History at 0x7fa860ff3550>"
            ]
          },
          "metadata": {},
          "execution_count": 52
        }
      ]
    },
    {
      "cell_type": "code",
      "metadata": {
        "colab": {
          "base_uri": "https://localhost:8080/"
        },
        "id": "99Jq0FDIcJfl",
        "outputId": "22d1adb6-d033-4804-d95e-bc21e6f4e074"
      },
      "source": [
        "model.evaluate(X_test_flattened, y_test)"
      ],
      "execution_count": 54,
      "outputs": [
        {
          "output_type": "stream",
          "text": [
            "313/313 [==============================] - 0s 893us/step - loss: 0.2820 - accuracy: 0.9228\n"
          ],
          "name": "stdout"
        },
        {
          "output_type": "execute_result",
          "data": {
            "text/plain": [
              "[0.2820453345775604, 0.9228000044822693]"
            ]
          },
          "metadata": {},
          "execution_count": 54
        }
      ]
    },
    {
      "cell_type": "code",
      "metadata": {
        "colab": {
          "base_uri": "https://localhost:8080/"
        },
        "id": "KjEjjJG3cQ4-",
        "outputId": "b78fa3ac-1da3-44d5-996e-172d16e2267f"
      },
      "source": [
        "y_predicted = model.predict(X_test_flattened)\n",
        "y_predicted[0]"
      ],
      "execution_count": 55,
      "outputs": [
        {
          "output_type": "execute_result",
          "data": {
            "text/plain": [
              "array([1.87136233e-02, 3.59562978e-06, 1.09591305e-01, 9.64526296e-01,\n",
              "       8.52108002e-04, 4.35002148e-02, 7.04140575e-06, 9.99780893e-01,\n",
              "       1.02974325e-01, 5.60531199e-01], dtype=float32)"
            ]
          },
          "metadata": {},
          "execution_count": 55
        }
      ]
    },
    {
      "cell_type": "code",
      "metadata": {
        "colab": {
          "base_uri": "https://localhost:8080/",
          "height": 293
        },
        "id": "Y_1XZvVPcUaa",
        "outputId": "da11a9f5-9702-4a28-a986-cb78b5778df0"
      },
      "source": [
        "plt.matshow(X_test[0])\n"
      ],
      "execution_count": 56,
      "outputs": [
        {
          "output_type": "execute_result",
          "data": {
            "text/plain": [
              "<matplotlib.image.AxesImage at 0x7fa871aee290>"
            ]
          },
          "metadata": {},
          "execution_count": 56
        },
        {
          "output_type": "display_data",
          "data": {
            "image/png": "[encoded data removed]",
            "text/plain": [
              "<Figure size 288x288 with 1 Axes>"
            ]
          },
          "metadata": {
            "needs_background": "light"
          }
        }
      ]
    },
    {
      "cell_type": "markdown",
      "metadata": {
        "id": "GiwbscZIcZdd"
      },
      "source": [
        "\n",
        "\n",
        "*   np.argmax finds a maximum element from an array and returns the index of it\n",
        "\n",
        "\n",
        "\n"
      ]
    },
    {
      "cell_type": "code",
      "metadata": {
        "colab": {
          "base_uri": "https://localhost:8080/"
        },
        "id": "uMJI1y-Vcdvr",
        "outputId": "75a0dc89-45a4-40ab-996f-6ee8dfb2514e"
      },
      "source": [
        "np.argmax(y_predicted[0])\n"
      ],
      "execution_count": 57,
      "outputs": [
        {
          "output_type": "execute_result",
          "data": {
            "text/plain": [
              "7"
            ]
          },
          "metadata": {},
          "execution_count": 57
        }
      ]
    },
    {
      "cell_type": "code",
      "metadata": {
        "id": "AgMPGT49cjpq"
      },
      "source": [
        "y_predicted_labels = [np.argmax(i) for i in y_predicted]\n"
      ],
      "execution_count": 58,
      "outputs": []
    },
    {
      "cell_type": "code",
      "metadata": {
        "colab": {
          "base_uri": "https://localhost:8080/"
        },
        "id": "KtxIbBq6cnGx",
        "outputId": "6ea1e424-4c23-46c3-c3b4-cf1547ec5197"
      },
      "source": [
        "y_predicted_labels[:5]\n"
      ],
      "execution_count": 59,
      "outputs": [
        {
          "output_type": "execute_result",
          "data": {
            "text/plain": [
              "[7, 2, 1, 0, 4]"
            ]
          },
          "metadata": {},
          "execution_count": 59
        }
      ]
    },
    {
      "cell_type": "code",
      "metadata": {
        "colab": {
          "base_uri": "https://localhost:8080/"
        },
        "id": "8kjdO4eIcrSP",
        "outputId": "6599af2a-c5e5-4e54-9342-e80a37b6c0f9"
      },
      "source": [
        "cm = tf.math.confusion_matrix(labels=y_test,predictions=y_predicted_labels)\n",
        "cm"
      ],
      "execution_count": 60,
      "outputs": [
        {
          "output_type": "execute_result",
          "data": {
            "text/plain": [
              "<tf.Tensor: shape=(10, 10), dtype=int32, numpy=\n",
              "array([[ 953,    0,    0,    1,    0,    9,   10,    3,    4,    0],\n",
              "       [   0, 1117,    3,    1,    0,    3,    4,    0,    7,    0],\n",
              "       [   9,   10,  915,   22,   11,    2,   13,    9,   38,    3],\n",
              "       [   3,    0,   13,  929,    1,   24,    3,    8,   19,   10],\n",
              "       [   1,    1,    7,    1,  917,    0,   12,    3,    8,   32],\n",
              "       [   8,    1,    6,   39,    6,  768,   18,    4,   36,    6],\n",
              "       [  13,    3,    7,    2,    8,   13,  906,    1,    5,    0],\n",
              "       [   2,    8,   29,    5,    6,    0,    0,  934,    3,   41],\n",
              "       [   5,    6,    6,   26,   11,   29,    9,    9,  863,   10],\n",
              "       [   8,    6,    4,   12,   21,    8,    0,   15,    9,  926]],\n",
              "      dtype=int32)>"
            ]
          },
          "metadata": {},
          "execution_count": 60
        }
      ]
    },
    {
      "cell_type": "code",
      "metadata": {
        "colab": {
          "base_uri": "https://localhost:8080/",
          "height": 460
        },
        "id": "8Fk7_LGBcwSf",
        "outputId": "060a2151-5fb7-4b53-a4e3-caf6e8f819cd"
      },
      "source": [
        "import seaborn as sn\n",
        "plt.figure(figsize = (10,7))\n",
        "sn.heatmap(cm, annot=True, fmt='d')\n",
        "plt.xlabel('Predicted')\n",
        "plt.ylabel('Truth')"
      ],
      "execution_count": 61,
      "outputs": [
        {
          "output_type": "execute_result",
          "data": {
            "text/plain": [
              "Text(69.0, 0.5, 'Truth')"
            ]
          },
          "metadata": {},
          "execution_count": 61
        },
        {
          "output_type": "display_data",
          "data": {
            "image/png": "[encoded data removed]",
            "text/plain": [
              "<Figure size 720x504 with 2 Axes>"
            ]
          },
          "metadata": {
            "needs_background": "light"
          }
        }
      ]
    },
    {
      "cell_type": "markdown",
      "metadata": {
        "id": "FyX9hEzxdE7v"
      },
      "source": [
        "**USING HIDDEN LAYER**"
      ]
    },
    {
      "cell_type": "code",
      "metadata": {
        "colab": {
          "base_uri": "https://localhost:8080/"
        },
        "id": "ofQwJ_EudL7y",
        "outputId": "54a93459-5a86-4def-fdd0-c567dff7c12e"
      },
      "source": [
        "model = keras.Sequential([\n",
        "    keras.layers.Dense(100, input_shape=(784,), activation='relu'),\n",
        "    keras.layers.Dense(10, activation='sigmoid')\n",
        "])\n",
        "\n",
        "model.compile(optimizer='adam',\n",
        "              loss='sparse_categorical_crossentropy',\n",
        "              metrics=['accuracy'])\n",
        "\n",
        "model.fit(X_train_flattened, y_train, epochs=5)"
      ],
      "execution_count": 62,
      "outputs": [
        {
          "output_type": "stream",
          "text": [
            "Epoch 1/5\n",
            "1875/1875 [==============================] - 4s 2ms/step - loss: 0.3282 - accuracy: 0.9097\n",
            "Epoch 2/5\n",
            "1875/1875 [==============================] - 4s 2ms/step - loss: 0.1554 - accuracy: 0.9549\n",
            "Epoch 3/5\n",
            "1875/1875 [==============================] - 3s 2ms/step - loss: 0.1088 - accuracy: 0.9674\n",
            "Epoch 4/5\n",
            "1875/1875 [==============================] - 3s 2ms/step - loss: 0.0827 - accuracy: 0.9754\n",
            "Epoch 5/5\n",
            "1875/1875 [==============================] - 4s 2ms/step - loss: 0.0656 - accuracy: 0.9805\n"
          ],
          "name": "stdout"
        },
        {
          "output_type": "execute_result",
          "data": {
            "text/plain": [
              "<keras.callbacks.History at 0x7fa871901e10>"
            ]
          },
          "metadata": {},
          "execution_count": 62
        }
      ]
    },
    {
      "cell_type": "code",
      "metadata": {
        "colab": {
          "base_uri": "https://localhost:8080/"
        },
        "id": "2AanIOyZdSba",
        "outputId": "fe83ad62-4fc5-4260-9053-de409463eba0"
      },
      "source": [
        "model.evaluate(X_test_flattened,y_test)\n"
      ],
      "execution_count": 63,
      "outputs": [
        {
          "output_type": "stream",
          "text": [
            "313/313 [==============================] - 0s 1ms/step - loss: 0.0898 - accuracy: 0.9726\n"
          ],
          "name": "stdout"
        },
        {
          "output_type": "execute_result",
          "data": {
            "text/plain": [
              "[0.08975764364004135, 0.972599983215332]"
            ]
          },
          "metadata": {},
          "execution_count": 63
        }
      ]
    },
    {
      "cell_type": "code",
      "metadata": {
        "colab": {
          "base_uri": "https://localhost:8080/",
          "height": 460
        },
        "id": "Dj-jWENYdXQq",
        "outputId": "9af4ba35-713d-4228-df77-12b5f738ba57"
      },
      "source": [
        "y_predicted = model.predict(X_test_flattened)\n",
        "y_predicted_labels = [np.argmax(i) for i in y_predicted]\n",
        "cm = tf.math.confusion_matrix(labels=y_test,predictions=y_predicted_labels)\n",
        "\n",
        "plt.figure(figsize = (10,7))\n",
        "sn.heatmap(cm, annot=True, fmt='d')\n",
        "plt.xlabel('Predicted')\n",
        "plt.ylabel('Truth')"
      ],
      "execution_count": 64,
      "outputs": [
        {
          "output_type": "execute_result",
          "data": {
            "text/plain": [
              "Text(69.0, 0.5, 'Truth')"
            ]
          },
          "metadata": {},
          "execution_count": 64
        },
        {
          "output_type": "display_data",
          "data": {
            "image/png": "[encoded data removed]",
            "text/plain": [
              "<Figure size 720x504 with 2 Axes>"
            ]
          },
          "metadata": {
            "needs_background": "light"
          }
        }
      ]
    },
    {
      "cell_type": "markdown",
      "metadata": {
        "id": "CEg1x8nSdd5V"
      },
      "source": [
        "**Using Flatten layer so that we don't have to call .reshape on input dataset**"
      ]
    },
    {
      "cell_type": "code",
      "metadata": {
        "colab": {
          "base_uri": "https://localhost:8080/"
        },
        "id": "3E1WgGIxdhSJ",
        "outputId": "b9622e8b-f1c0-48c9-b9d2-908420073e0f"
      },
      "source": [
        "model = keras.Sequential([\n",
        "    keras.layers.Flatten(input_shape=(28, 28)),\n",
        "    keras.layers.Dense(100, activation='relu'),\n",
        "    keras.layers.Dense(10, activation='sigmoid')\n",
        "])\n",
        "\n",
        "model.compile(optimizer='adam',\n",
        "              loss='sparse_categorical_crossentropy',\n",
        "              metrics=['accuracy'])\n",
        "\n",
        "model.fit(X_train, y_train, epochs=10)"
      ],
      "execution_count": 65,
      "outputs": [
        {
          "output_type": "stream",
          "text": [
            "Epoch 1/10\n",
            "1875/1875 [==============================] - 3s 2ms/step - loss: 0.3378 - accuracy: 0.9068\n",
            "Epoch 2/10\n",
            "1875/1875 [==============================] - 3s 2ms/step - loss: 0.1614 - accuracy: 0.9533\n",
            "Epoch 3/10\n",
            "1875/1875 [==============================] - 3s 2ms/step - loss: 0.1124 - accuracy: 0.9666\n",
            "Epoch 4/10\n",
            "1875/1875 [==============================] - 3s 2ms/step - loss: 0.0845 - accuracy: 0.9745\n",
            "Epoch 5/10\n",
            "1875/1875 [==============================] - 3s 2ms/step - loss: 0.0681 - accuracy: 0.9797\n",
            "Epoch 6/10\n",
            "1875/1875 [==============================] - 3s 2ms/step - loss: 0.0555 - accuracy: 0.9830\n",
            "Epoch 7/10\n",
            "1875/1875 [==============================] - 3s 2ms/step - loss: 0.0448 - accuracy: 0.9866\n",
            "Epoch 8/10\n",
            "1875/1875 [==============================] - 3s 2ms/step - loss: 0.0377 - accuracy: 0.9888\n",
            "Epoch 9/10\n",
            "1875/1875 [==============================] - 3s 2ms/step - loss: 0.0303 - accuracy: 0.9910\n",
            "Epoch 10/10\n",
            "1875/1875 [==============================] - 3s 2ms/step - loss: 0.0267 - accuracy: 0.9923\n"
          ],
          "name": "stdout"
        },
        {
          "output_type": "execute_result",
          "data": {
            "text/plain": [
              "<keras.callbacks.History at 0x7fa8716a4b90>"
            ]
          },
          "metadata": {},
          "execution_count": 65
        }
      ]
    },
    {
      "cell_type": "code",
      "metadata": {
        "colab": {
          "base_uri": "https://localhost:8080/"
        },
        "id": "lhaDfaZedpUt",
        "outputId": "92cb4eef-9611-4154-cbb1-a7dedf61a3db"
      },
      "source": [
        "model.evaluate(X_test,y_test)\n"
      ],
      "execution_count": 67,
      "outputs": [
        {
          "output_type": "stream",
          "text": [
            "313/313 [==============================] - 0s 1ms/step - loss: 0.0939 - accuracy: 0.9738\n"
          ],
          "name": "stdout"
        },
        {
          "output_type": "execute_result",
          "data": {
            "text/plain": [
              "[0.09394613653421402, 0.973800003528595]"
            ]
          },
          "metadata": {},
          "execution_count": 67
        }
      ]
    },
    {
      "cell_type": "markdown",
      "metadata": {
        "id": "vRv93ybjfBaU"
      },
      "source": [
        "                                                                                                                                                        **THANK YOU**\n",
        "\n",
        "---\n",
        "\n"
      ]
    }
  ]
}